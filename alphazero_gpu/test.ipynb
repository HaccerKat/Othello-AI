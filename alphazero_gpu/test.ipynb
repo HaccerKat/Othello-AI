{
 "cells": [
  {
   "metadata": {
    "ExecuteTime": {
     "end_time": "2025-06-27T23:11:11.643051Z",
     "start_time": "2025-06-27T23:11:11.636702Z"
    }
   },
   "cell_type": "code",
   "source": [
    "import numpy as np\n",
    "import torch\n",
    "def bitboards_to_tensor(player_boards, opponent_boards):\n",
    "    player_boards = np.array(player_boards, dtype=np.uint64)\n",
    "    opponent_boards = np.array(opponent_boards, dtype=np.uint64)\n",
    "\n",
    "    shifts = np.arange(0, 64, dtype=np.uint64)\n",
    "    player_bits = ((player_boards[:, None] >> shifts) & 1).astype(np.float32)\n",
    "    print(player_boards[:, None] >> shifts)\n",
    "    opponent_bits = ((opponent_boards[:, None] >> shifts) & 1).astype(np.float32)\n",
    "    print(opponent_bits)\n",
    "\n",
    "    stacked = np.stack([player_bits, opponent_bits], axis=1)\n",
    "    return torch.from_numpy(stacked.reshape(-1, 2, 8, 8))"
   ],
   "id": "2b7c6801207c2f18",
   "outputs": [],
   "execution_count": 34
  },
  {
   "metadata": {
    "ExecuteTime": {
     "end_time": "2025-06-27T23:11:12.786003Z",
     "start_time": "2025-06-27T23:11:12.777482Z"
    }
   },
   "cell_type": "code",
   "source": [
    "initial_player_board = 0x0000000810000000\n",
    "initial_opponent_board = 0x0000001008000000\n",
    "a = [initial_player_board, initial_player_board]\n",
    "b = [initial_opponent_board, initial_opponent_board]\n",
    "print(bitboards_to_tensor(a, b))"
   ],
   "id": "4e33b16d744851b6",
   "outputs": [
    {
     "name": "stdout",
     "output_type": "stream",
     "text": [
      "[[34628173824 17314086912  8657043456  4328521728  2164260864  1082130432\n",
      "    541065216   270532608   135266304    67633152    33816576    16908288\n",
      "      8454144     4227072     2113536     1056768      528384      264192\n",
      "       132096       66048       33024       16512        8256        4128\n",
      "         2064        1032         516         258         129          64\n",
      "           32          16           8           4           2           1\n",
      "            0           0           0           0           0           0\n",
      "            0           0           0           0           0           0\n",
      "            0           0           0           0           0           0\n",
      "            0           0           0           0           0           0\n",
      "            0           0           0           0]\n",
      " [34628173824 17314086912  8657043456  4328521728  2164260864  1082130432\n",
      "    541065216   270532608   135266304    67633152    33816576    16908288\n",
      "      8454144     4227072     2113536     1056768      528384      264192\n",
      "       132096       66048       33024       16512        8256        4128\n",
      "         2064        1032         516         258         129          64\n",
      "           32          16           8           4           2           1\n",
      "            0           0           0           0           0           0\n",
      "            0           0           0           0           0           0\n",
      "            0           0           0           0           0           0\n",
      "            0           0           0           0           0           0\n",
      "            0           0           0           0]]\n",
      "[[0. 0. 0. 0. 0. 0. 0. 0. 0. 0. 0. 0. 0. 0. 0. 0. 0. 0. 0. 0. 0. 0. 0. 0.\n",
      "  0. 0. 0. 1. 0. 0. 0. 0. 0. 0. 0. 0. 1. 0. 0. 0. 0. 0. 0. 0. 0. 0. 0. 0.\n",
      "  0. 0. 0. 0. 0. 0. 0. 0. 0. 0. 0. 0. 0. 0. 0. 0.]\n",
      " [0. 0. 0. 0. 0. 0. 0. 0. 0. 0. 0. 0. 0. 0. 0. 0. 0. 0. 0. 0. 0. 0. 0. 0.\n",
      "  0. 0. 0. 1. 0. 0. 0. 0. 0. 0. 0. 0. 1. 0. 0. 0. 0. 0. 0. 0. 0. 0. 0. 0.\n",
      "  0. 0. 0. 0. 0. 0. 0. 0. 0. 0. 0. 0. 0. 0. 0. 0.]]\n",
      "tensor([[[[0., 0., 0., 0., 0., 0., 0., 0.],\n",
      "          [0., 0., 0., 0., 0., 0., 0., 0.],\n",
      "          [0., 0., 0., 0., 0., 0., 0., 0.],\n",
      "          [0., 0., 0., 0., 1., 0., 0., 0.],\n",
      "          [0., 0., 0., 1., 0., 0., 0., 0.],\n",
      "          [0., 0., 0., 0., 0., 0., 0., 0.],\n",
      "          [0., 0., 0., 0., 0., 0., 0., 0.],\n",
      "          [0., 0., 0., 0., 0., 0., 0., 0.]],\n",
      "\n",
      "         [[0., 0., 0., 0., 0., 0., 0., 0.],\n",
      "          [0., 0., 0., 0., 0., 0., 0., 0.],\n",
      "          [0., 0., 0., 0., 0., 0., 0., 0.],\n",
      "          [0., 0., 0., 1., 0., 0., 0., 0.],\n",
      "          [0., 0., 0., 0., 1., 0., 0., 0.],\n",
      "          [0., 0., 0., 0., 0., 0., 0., 0.],\n",
      "          [0., 0., 0., 0., 0., 0., 0., 0.],\n",
      "          [0., 0., 0., 0., 0., 0., 0., 0.]]],\n",
      "\n",
      "\n",
      "        [[[0., 0., 0., 0., 0., 0., 0., 0.],\n",
      "          [0., 0., 0., 0., 0., 0., 0., 0.],\n",
      "          [0., 0., 0., 0., 0., 0., 0., 0.],\n",
      "          [0., 0., 0., 0., 1., 0., 0., 0.],\n",
      "          [0., 0., 0., 1., 0., 0., 0., 0.],\n",
      "          [0., 0., 0., 0., 0., 0., 0., 0.],\n",
      "          [0., 0., 0., 0., 0., 0., 0., 0.],\n",
      "          [0., 0., 0., 0., 0., 0., 0., 0.]],\n",
      "\n",
      "         [[0., 0., 0., 0., 0., 0., 0., 0.],\n",
      "          [0., 0., 0., 0., 0., 0., 0., 0.],\n",
      "          [0., 0., 0., 0., 0., 0., 0., 0.],\n",
      "          [0., 0., 0., 1., 0., 0., 0., 0.],\n",
      "          [0., 0., 0., 0., 1., 0., 0., 0.],\n",
      "          [0., 0., 0., 0., 0., 0., 0., 0.],\n",
      "          [0., 0., 0., 0., 0., 0., 0., 0.],\n",
      "          [0., 0., 0., 0., 0., 0., 0., 0.]]]])\n"
     ]
    }
   ],
   "execution_count": 35
  },
  {
   "metadata": {
    "ExecuteTime": {
     "end_time": "2025-06-25T22:16:38.811669Z",
     "start_time": "2025-06-25T22:16:38.805499Z"
    }
   },
   "cell_type": "code",
   "source": [
    "import numpy as np\n",
    "a = np.array([1, 2, 3])\n",
    "b = np.array([4, 5, 6])\n",
    "print(np.stack([a, b], axis=1))"
   ],
   "id": "efe577e937bf582b",
   "outputs": [
    {
     "name": "stdout",
     "output_type": "stream",
     "text": [
      "[[1 4]\n",
      " [2 5]\n",
      " [3 6]]\n"
     ]
    }
   ],
   "execution_count": 7
  },
  {
   "metadata": {
    "ExecuteTime": {
     "end_time": "2025-06-27T22:55:35.538390Z",
     "start_time": "2025-06-27T22:55:35.531756Z"
    }
   },
   "cell_type": "code",
   "source": [
    "class Node:\n",
    "    def __init__(self, x):\n",
    "        self.x = x\n",
    "    def __str__(self):\n",
    "        return str(self.x)\n",
    "    def __repr__(self):\n",
    "        return self.__str__()\n",
    "a = Node(1)\n",
    "b = Node(2)\n",
    "e = Node(3)\n",
    "c = [a, b]\n",
    "d = c[:]\n",
    "\n",
    "print(c)\n",
    "print(d)\n",
    "print(c[0] == d[0])\n",
    "d[0] = e\n",
    "print(c)\n",
    "print(d)\n",
    "print(c[0] == d[0])"
   ],
   "id": "8b143963deb0ab63",
   "outputs": [
    {
     "name": "stdout",
     "output_type": "stream",
     "text": [
      "[1, 2]\n",
      "[1, 2]\n",
      "True\n",
      "[1, 2]\n",
      "[3, 2]\n",
      "False\n"
     ]
    }
   ],
   "execution_count": 23
  },
  {
   "metadata": {
    "ExecuteTime": {
     "end_time": "2025-06-27T22:54:51.357163Z",
     "start_time": "2025-06-27T22:54:51.352848Z"
    }
   },
   "cell_type": "code",
   "source": [
    "x = Node(1)\n",
    "y = x\n",
    "y = Node(2)\n",
    "print(x == y)"
   ],
   "id": "5804375a1bbd3ef7",
   "outputs": [
    {
     "name": "stdout",
     "output_type": "stream",
     "text": [
      "False\n"
     ]
    }
   ],
   "execution_count": 21
  },
  {
   "metadata": {
    "ExecuteTime": {
     "end_time": "2025-06-27T23:04:40.280713Z",
     "start_time": "2025-06-27T23:04:40.139872Z"
    }
   },
   "cell_type": "code",
   "source": [
    "import numpy as np\n",
    "shifts = np.arange(63, -1, -1, dtype=np.uint64)\n",
    "print(shifts)"
   ],
   "id": "c66d91d3ca54c65",
   "outputs": [
    {
     "name": "stdout",
     "output_type": "stream",
     "text": [
      "[63 62 61 60 59 58 57 56 55 54 53 52 51 50 49 48 47 46 45 44 43 42 41 40\n",
      " 39 38 37 36 35 34 33 32 31 30 29 28 27 26 25 24 23 22 21 20 19 18 17 16\n",
      " 15 14 13 12 11 10  9  8  7  6  5  4  3  2  1  0]\n"
     ]
    }
   ],
   "execution_count": 25
  }
 ],
 "metadata": {
  "kernelspec": {
   "display_name": "othello-ai",
   "language": "python",
   "name": "python3"
  },
  "language_info": {
   "codemirror_mode": {
    "name": "ipython",
    "version": 3
   },
   "file_extension": ".py",
   "mimetype": "text/x-python",
   "name": "python",
   "nbconvert_exporter": "python",
   "pygments_lexer": "ipython3",
   "version": "3.10.18"
  }
 },
 "nbformat": 4,
 "nbformat_minor": 5
}
