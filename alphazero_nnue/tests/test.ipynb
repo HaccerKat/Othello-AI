{
 "cells": [
  {
   "cell_type": "code",
   "id": "d07d491c",
   "metadata": {
    "ExecuteTime": {
     "end_time": "2025-06-06T16:09:29.424127Z",
     "start_time": "2025-06-06T16:09:29.420584Z"
    }
   },
   "source": [
    "import multiprocessing\n",
    "\n",
    "print(\"Number of cpu: \", multiprocessing.cpu_count())"
   ],
   "outputs": [
    {
     "name": "stdout",
     "output_type": "stream",
     "text": [
      "Number of cpu:  16\n"
     ]
    }
   ],
   "execution_count": 2
  },
  {
   "cell_type": "code",
   "id": "7f1f3ea1",
   "metadata": {
    "ExecuteTime": {
     "end_time": "2025-06-03T04:49:30.243678Z",
     "start_time": "2025-06-03T04:49:30.239752Z"
    }
   },
   "source": [
    "import numpy as np\n",
    "import torch\n",
    "x = 11\n",
    "a = (list(map(int, bin(x)[2:])))\n",
    "print(a)\n",
    "a_np = np.array(a)\n",
    "print(a_np)\n",
    "a_np += 1\n",
    "print(a_np)\n",
    "a_torch = torch.tensor(a)\n",
    "print(a_torch)\n",
    "print(np.zeros((0,1)))\n",
    "len( np.zeros((0,1)) )"
   ],
   "outputs": [
    {
     "name": "stdout",
     "output_type": "stream",
     "text": [
      "[1, 0, 1, 1]\n",
      "[1 0 1 1]\n",
      "[2 1 2 2]\n",
      "tensor([1, 0, 1, 1])\n",
      "[]\n"
     ]
    },
    {
     "data": {
      "text/plain": [
       "0"
      ]
     },
     "execution_count": 2,
     "metadata": {},
     "output_type": "execute_result"
    }
   ],
   "execution_count": 2
  },
  {
   "metadata": {
    "ExecuteTime": {
     "end_time": "2025-06-04T03:42:45.960849Z",
     "start_time": "2025-06-04T03:42:45.957142Z"
    }
   },
   "cell_type": "code",
   "source": [
    "import math\n",
    "x = 0.9999\n",
    "print(math.atanh(x))"
   ],
   "id": "ceb3aab480bc7ddf",
   "outputs": [
    {
     "name": "stdout",
     "output_type": "stream",
     "text": [
      "4.951718775643098\n"
     ]
    }
   ],
   "execution_count": 3
  },
  {
   "cell_type": "code",
   "execution_count": 8,
   "id": "55974483",
   "metadata": {},
   "outputs": [
    {
     "name": "stdout",
     "output_type": "stream",
     "text": [
      "[(1, 1)]\n"
     ]
    }
   ],
   "source": [
    "test = []\n",
    "test.append((1, 1))\n",
    "print(test)"
   ]
  },
  {
   "cell_type": "code",
   "execution_count": 6,
   "id": "0f683dd5",
   "metadata": {},
   "outputs": [
    {
     "name": "stdout",
     "output_type": "stream",
     "text": [
      "18446744073709551607\n",
      "18446744073709551615\n",
      "85720688574901385675874003924800144844912384936442688595500031069628084089994889799455870305255668650207573833404251746014971622855385123487876620597588598431476542198593847883368596840498969135023633457224371799868655530139190140473324351568616503316569571821492337341283438653220995094697645344555008\n"
     ]
    }
   ],
   "source": [
    "x = 8\n",
    "y = 9\n",
    "print(~x & 0xFFFFFFFFFFFFFFFF)\n",
    "print(0xFFFFFFFFFFFFFFFF)\n",
    "print(x << 1000)"
   ]
  },
  {
   "metadata": {
    "ExecuteTime": {
     "end_time": "2025-06-04T20:47:46.438560Z",
     "start_time": "2025-06-04T20:47:46.432455Z"
    }
   },
   "cell_type": "code",
   "source": [
    "import numpy as np\n",
    "alpha = 0.5\n",
    "x = np.random.dirichlet([alpha] * 20)\n",
    "print(x)"
   ],
   "id": "d7efdc73d5a7a9a1",
   "outputs": [
    {
     "name": "stdout",
     "output_type": "stream",
     "text": [
      "[0.01902626 0.24813738 0.00652915 0.00486382 0.06755791 0.08373982\n",
      " 0.01040412 0.01714123 0.00856805 0.05807232 0.13484741 0.10834684\n",
      " 0.00230751 0.00581225 0.11515911 0.00647925 0.00266174 0.03337142\n",
      " 0.01991216 0.04706226]\n"
     ]
    }
   ],
   "execution_count": 10
  },
  {
   "metadata": {
    "ExecuteTime": {
     "end_time": "2025-06-04T20:13:03.432050Z",
     "start_time": "2025-06-04T20:13:03.374717Z"
    }
   },
   "cell_type": "code",
   "source": [
    "import numpy as np\n",
    "import matplotlib.pyplot as plt\n",
    "from scipy.stats import beta\n",
    "\n",
    "alpha1 = 0.3\n",
    "alpha2 = 0.3\n",
    "\n",
    "x = np.linspace(0, 1, 500)\n",
    "y = beta.pdf(x, alpha1, alpha2)\n",
    "\n",
    "plt.plot(x, y)\n",
    "plt.title(f\"Beta Distribution (α={alpha1}, {alpha2})\")\n",
    "plt.xlabel(\"x (prob of action 1)\")\n",
    "plt.ylabel(\"Density\")\n",
    "plt.grid(True)\n",
    "plt.show()\n"
   ],
   "id": "c1a9cfc7ab62b881",
   "outputs": [
    {
     "data": {
      "text/plain": [
       "<Figure size 640x480 with 1 Axes>"
      ],
      "image/png": "[encoded data removed]"
     },
     "metadata": {},
     "output_type": "display_data"
    }
   ],
   "execution_count": 2
  },
  {
   "metadata": {
    "ExecuteTime": {
     "end_time": "2025-06-05T20:11:37.983332Z",
     "start_time": "2025-06-05T20:11:37.779823Z"
    }
   },
   "cell_type": "code",
   "source": [
    "import numpy as np\n",
    "\n",
    "arr = np.array([\n",
    "    [1, 2, 3],\n",
    "    [4, 5, 6],\n",
    "    [7, 8, 9]\n",
    "])\n",
    "\n",
    "# Slice columns 0 and 2\n",
    "cols = arr[:, [0, 2]]\n",
    "print(cols)"
   ],
   "id": "6ba5099a53c7377f",
   "outputs": [
    {
     "name": "stdout",
     "output_type": "stream",
     "text": [
      "[[1 3]\n",
      " [4 6]\n",
      " [7 9]]\n"
     ]
    }
   ],
   "execution_count": 9
  },
  {
   "cell_type": "code",
   "id": "01688451",
   "metadata": {
    "ExecuteTime": {
     "end_time": "2025-06-06T04:22:07.605044Z",
     "start_time": "2025-06-06T04:22:07.601283Z"
    }
   },
   "source": [
    "import time\n",
    "import torch\n",
    "from torch import nn\n",
    "from torch.utils.data import DataLoader\n",
    "import torchvision.models as models\n",
    "import torch.nn.functional as F\n",
    "import random\n",
    "class NeuralNetwork(nn.Module):\n",
    "    def __init__(self):\n",
    "        super().__init__()\n",
    "        self.hidden1 = nn.Linear(128, 256)\n",
    "        self.hidden2 = nn.Linear(256, 128)\n",
    "        self.policy = nn.Linear(128, 64)\n",
    "        self.value = nn.Linear(128, 1)\n",
    "\n",
    "    def forward(self, x):\n",
    "        x = F.relu(self.hidden1(x))\n",
    "        x = F.relu(self.hidden2(x))\n",
    "        policy = F.softmax(self.policy(x), dim=0)\n",
    "        value = F.tanh(self.value(x))\n",
    "        return policy, value\n",
    "\n",
    "device = \"cuda\" if torch.cuda.is_available() else \"cpu\"\n",
    "print(f\"Using {device} device\")\n",
    "model = NeuralNetwork().to(device)"
   ],
   "outputs": [
    {
     "name": "stdout",
     "output_type": "stream",
     "text": [
      "Using cpu device\n"
     ]
    }
   ],
   "execution_count": 83
  },
  {
   "cell_type": "code",
   "id": "1b0b722b",
   "metadata": {
    "ExecuteTime": {
     "end_time": "2025-06-06T04:22:30.131504Z",
     "start_time": "2025-06-06T04:22:30.127404Z"
    }
   },
   "source": [
    "import random\n",
    "\n",
    "\n",
    "X = torch.empty(128)\n",
    "for i in range(128):\n",
    "    x = random.randint(0, 1)\n",
    "    x = x * 2 - 1\n",
    "    X[i] = x\n",
    "# print(X)\n",
    "# X = torch.Tensor([-1., -1., -1., -1., -1., -1., -1., -1., -1., -1.,  1., -1., -1., -1.,\n",
    "#         -1.,  1., -1.,  1., -1., -1., -1., -1.,  1.,  1., -1., -1., -1., -1.,\n",
    "#          1.,  1., -1.,  1., -1., -1.,  1., -1., -1.,  1., -1.,  1., -1.,  1.,\n",
    "#         -1., -1., -1., -1., -1.,  1., -1.,  1.,  1., -1.,  1., -1., -1.,  1.,\n",
    "#         -1., -1., -1., -1., -1., -1., -1.,  1.,  1.,  1.,  1.,  1.,  1.,  1.,\n",
    "#          1.,  1.,  1.,  1., -1.,  1.,  1.,  1.,  1., -1.,  1., -1.,  1.,  1.,\n",
    "#          1.,  1., -1., -1.,  1.,  1.,  1.,  1., -1., -1.,  1., -1.,  1.,  1.,\n",
    "#         -1.,  1.,  1., -1.,  1., -1.,  1., -1.,  1.,  1.,  1.,  1.,  1., -1.,\n",
    "#          1., -1., -1.,  1., -1.,  1.,  1., -1.,  1.,  1.,  1.,  1.,  1.,  1.,\n",
    "#          1., -1.])\n",
    "policy, value = model(X)\n",
    "print(policy)\n",
    "print(value)"
   ],
   "outputs": [
    {
     "name": "stdout",
     "output_type": "stream",
     "text": [
      "tensor([0.0158, 0.0149, 0.0153, 0.0176, 0.0177, 0.0121, 0.0168, 0.0137, 0.0163,\n",
      "        0.0167, 0.0138, 0.0176, 0.0168, 0.0146, 0.0170, 0.0154, 0.0152, 0.0149,\n",
      "        0.0156, 0.0144, 0.0139, 0.0163, 0.0167, 0.0171, 0.0143, 0.0128, 0.0165,\n",
      "        0.0166, 0.0156, 0.0141, 0.0134, 0.0140, 0.0155, 0.0143, 0.0153, 0.0175,\n",
      "        0.0159, 0.0166, 0.0168, 0.0138, 0.0139, 0.0152, 0.0184, 0.0177, 0.0144,\n",
      "        0.0152, 0.0163, 0.0148, 0.0150, 0.0159, 0.0140, 0.0166, 0.0145, 0.0163,\n",
      "        0.0127, 0.0149, 0.0176, 0.0164, 0.0182, 0.0165, 0.0145, 0.0187, 0.0173,\n",
      "        0.0155], grad_fn=<SoftmaxBackward0>)\n",
      "tensor([-0.1862], grad_fn=<TanhBackward0>)\n"
     ]
    }
   ],
   "execution_count": 106
  },
  {
   "cell_type": "code",
   "execution_count": 6,
   "id": "47ae2878",
   "metadata": {},
   "outputs": [
    {
     "name": "stdout",
     "output_type": "stream",
     "text": [
      "[0.01484095 0.01537756 0.01416696 0.01370194 0.01408338 0.01579046\n",
      " 0.01530174 0.01622455 0.01322775 0.01731466 0.01451547 0.01657938\n",
      " 0.01454384 0.01605308 0.01323933 0.01422053 0.01598478 0.01628313\n",
      " 0.01640729 0.01687997 0.01463089 0.0147221  0.01446526 0.01658837\n",
      " 0.01772572 0.01458053 0.01341518 0.01774338 0.0173687  0.01500737\n",
      " 0.01503579 0.01503147 0.01575485 0.01780865 0.01552906 0.01365114\n",
      " 0.01823761 0.01735117 0.01763055 0.01376911 0.0148788  0.01709163\n",
      " 0.01512496 0.01694744 0.01626515 0.01541361 0.01608205 0.01688676\n",
      " 0.01719457 0.01575287 0.01370959 0.01720217 0.01618768 0.01444921\n",
      " 0.01676144 0.01622227 0.01604381 0.01304304 0.01467064 0.01654093\n",
      " 0.01645418 0.01570418 0.0151264  0.01546297]\n"
     ]
    }
   ],
   "source": [
    "import numpy as np\n",
    "print(policy.detach().numpy())"
   ]
  }
 ],
 "metadata": {
  "kernelspec": {
   "display_name": "othello-ai",
   "language": "python",
   "name": "othello-ai"
  },
  "language_info": {
   "codemirror_mode": {
    "name": "ipython",
    "version": 3
   },
   "file_extension": ".py",
   "mimetype": "text/x-python",
   "name": "python",
   "nbconvert_exporter": "python",
   "pygments_lexer": "ipython3",
   "version": "3.12.2"
  }
 },
 "nbformat": 4,
 "nbformat_minor": 5
}
